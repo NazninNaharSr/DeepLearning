{
  "nbformat": 4,
  "nbformat_minor": 0,
  "metadata": {
    "colab": {
      "provenance": [],
      "toc_visible": true,
      "authorship_tag": "ABX9TyPEZgKEu9UAgQ8BayN9rugK",
      "include_colab_link": true
    },
    "kernelspec": {
      "name": "python3",
      "display_name": "Python 3"
    },
    "language_info": {
      "name": "python"
    }
  },
  "cells": [
    {
      "cell_type": "markdown",
      "metadata": {
        "id": "view-in-github",
        "colab_type": "text"
      },
      "source": [
        "<a href=\"https://colab.research.google.com/github/NazninNaharSr/DeepLearning/blob/main/Neural_network_with_PyTorch.ipynb\" target=\"_parent\"><img src=\"https://colab.research.google.com/assets/colab-badge.svg\" alt=\"Open In Colab\"/></a>"
      ]
    },
    {
      "cell_type": "markdown",
      "source": [
        "# Load data\n",
        "The first step is to define the functions and classes you intend to use in this post. You will use the NumPy library to load your dataset and PyTorch library for deep learning models."
      ],
      "metadata": {
        "id": "je24XPqXpsGe"
      }
    },
    {
      "cell_type": "code",
      "source": [
        "import numpy as np\n",
        "import torch\n",
        "import torch.nn as nn\n",
        "import torch.optim as optim"
      ],
      "metadata": {
        "id": "jLWpkqHeq2UZ"
      },
      "execution_count": 8,
      "outputs": []
    },
    {
      "cell_type": "markdown",
      "source": [
        "# load the dataset, split into input (X) and output (y) variables\n"
      ],
      "metadata": {
        "id": "od37opzHq-Hj"
      }
    },
    {
      "cell_type": "code",
      "source": [
        "dataset = np.loadtxt('/content/pima-indians-diabetes.data.csv', delimiter=',')\n",
        "X = dataset[:,0:8]\n",
        "y = dataset[:,8]"
      ],
      "metadata": {
        "id": "5sNAQjAgr9el"
      },
      "execution_count": 9,
      "outputs": []
    },
    {
      "cell_type": "markdown",
      "source": [
        "You will be learning a model to map rows of input variables (X) to an output variable (Y), which is often summarized as (Y=F(X).The variables can be summarized as follows:\n",
        "\n",
        "Input Variables (X):\n",
        "\n",
        "1. Number of times pregnant\n",
        "2. Plasma glucose concentration at 2 hours in an oral glucose tolerance test\n",
        "3. Diastolic blood pressure (mm Hg)\n",
        "4. Triceps skin fold thickness (mm)\n",
        "5. 2-hour serum insulin (μIU/ml)\n",
        "6. Body mass index (weight in kg/(height in m)2)\n",
        "7. Diabetes pedigree function\n",
        "8. Age (years)\n",
        "\n",
        "Output Variables (Y):\n",
        "\n",
        "Class label (0 or 1)\n",
        "Once the CSV file is loaded into memory, you can split the columns of data into input and output variables.\n",
        "\n",
        "The data will be stored in a 2D array where the first dimension is rows and the second dimension is columns, e.g., (rows, columns). You can split the array into two arrays by selecting subsets of columns using the standard NumPy slice operator “:“. You can select the first eight columns from index 0 to index 7 via the slice 0:8. You can then select the output column (the 9th variable) via index 8."
      ],
      "metadata": {
        "id": "XOjKNdFytXVI"
      }
    },
    {
      "cell_type": "code",
      "source": [
        "#To convert, we create a tensor out of NumPy arrays:\n",
        "X = torch.tensor(X, dtype=torch.float32)\n",
        "y = torch.tensor(y, dtype=torch.float32).reshape(-1, 1)"
      ],
      "metadata": {
        "id": "G6rl5In7sflW"
      },
      "execution_count": 10,
      "outputs": []
    },
    {
      "cell_type": "markdown",
      "source": [
        "# Define the Model\n",
        "\n",
        "There are indeed, two ways to define a model in PyTorch. The goal is to make it like a function that takes an input and returns an output.\n",
        "\n",
        "A model can be defined as a sequence of layers. You create a Sequential model with the layers listed out. The first thing to get this right is to ensure the first layer has the correct number of input features. In this example, you can specify the input dimension to 8 for the eight input variables as one vector.\n"
      ],
      "metadata": {
        "id": "wJVPxQRJs8Yp"
      }
    },
    {
      "cell_type": "code",
      "source": [
        "\n",
        "model = nn.Sequential(\n",
        "    nn.Linear(8, 12),\n",
        "    nn.ReLU(),\n",
        "    nn.Linear(12, 8),\n",
        "    nn.ReLU(),\n",
        "    nn.Linear(8, 1),\n",
        "    nn.Sigmoid())"
      ],
      "metadata": {
        "id": "bhhivy9YvWsk"
      },
      "execution_count": 16,
      "outputs": []
    },
    {
      "cell_type": "code",
      "source": [
        "print(model)"
      ],
      "metadata": {
        "colab": {
          "base_uri": "https://localhost:8080/"
        },
        "id": "_F3ZgmiEwoaa",
        "outputId": "ef1c1d7b-6b4f-4c02-8d86-929fea0704be"
      },
      "execution_count": 17,
      "outputs": [
        {
          "output_type": "stream",
          "name": "stdout",
          "text": [
            "Sequential(\n",
            "  (0): Linear(in_features=8, out_features=12, bias=True)\n",
            "  (1): ReLU()\n",
            "  (2): Linear(in_features=12, out_features=8, bias=True)\n",
            "  (3): ReLU()\n",
            "  (4): Linear(in_features=8, out_features=1, bias=True)\n",
            "  (5): Sigmoid()\n",
            ")\n"
          ]
        }
      ]
    }
  ]
}